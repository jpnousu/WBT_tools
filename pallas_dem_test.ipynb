{
 "cells": [
  {
   "cell_type": "code",
   "execution_count": 2,
   "id": "b5f250a4-9f5e-4d60-b41c-a4c24ccfa628",
   "metadata": {},
   "outputs": [],
   "source": [
    "from whitebox_workflows import WbEnvironment\n",
    "wbe = WbEnvironment()\n",
    "wbe.working_directory = '/Users/jpnousu/Pallas_GIS/data/wbt'"
   ]
  },
  {
   "cell_type": "code",
   "execution_count": 3,
   "id": "ade42566-eb58-415e-a799-6b7b30bf0ec4",
   "metadata": {},
   "outputs": [
    {
     "name": "stderr",
     "output_type": "stream",
     "text": [
      "\n",
      "thread '<unnamed>' panicked at src/data_structures/raster/arcascii_raster.rs:97:68:\n",
      "called `Result::unwrap()` on an `Err` value: ParseFloatError { kind: Invalid }\n",
      "note: run with `RUST_BACKTRACE=1` environment variable to display a backtrace\n"
     ]
    },
    {
     "ename": "PanicException",
     "evalue": "called `Result::unwrap()` on an `Err` value: ParseFloatError { kind: Invalid }",
     "output_type": "error",
     "traceback": [
      "\u001b[31m---------------------------------------------------------------------------\u001b[39m",
      "\u001b[31mPanicException\u001b[39m                            Traceback (most recent call last)",
      "\u001b[36mCell\u001b[39m\u001b[36m \u001b[39m\u001b[32mIn[3]\u001b[39m\u001b[32m, line 3\u001b[39m\n\u001b[32m      1\u001b[39m \u001b[38;5;66;03m# Reading raster data\u001b[39;00m\n\u001b[32m      2\u001b[39m dem_file = \u001b[33mr\u001b[39m\u001b[33m'\u001b[39m\u001b[33m/Users/jpnousu/Pallas_GIS/data/dem_16/korkeusmalli_16m.asc\u001b[39m\u001b[33m'\u001b[39m\n\u001b[32m----> \u001b[39m\u001b[32m3\u001b[39m raster = \u001b[43mwbe\u001b[49m\u001b[43m.\u001b[49m\u001b[43mread_raster\u001b[49m\u001b[43m(\u001b[49m\u001b[43mdem_file\u001b[49m\u001b[43m)\u001b[49m\n",
      "\u001b[31mPanicException\u001b[39m: called `Result::unwrap()` on an `Err` value: ParseFloatError { kind: Invalid }"
     ]
    }
   ],
   "source": [
    "# Reading raster data\n",
    "dem_file = r'/Users/jpnousu/Pallas_GIS/data/dem_16/korkeusmalli_16m.asc'\n",
    "raster = wbe.read_raster(dem_file)"
   ]
  },
  {
   "cell_type": "code",
   "execution_count": null,
   "id": "8587942f-2e66-4b6c-bb6d-201b22f1fcdc",
   "metadata": {},
   "outputs": [],
   "source": []
  }
 ],
 "metadata": {
  "kernelspec": {
   "display_name": "Python 3 (ipykernel)",
   "language": "python",
   "name": "python3"
  },
  "language_info": {
   "codemirror_mode": {
    "name": "ipython",
    "version": 3
   },
   "file_extension": ".py",
   "mimetype": "text/x-python",
   "name": "python",
   "nbconvert_exporter": "python",
   "pygments_lexer": "ipython3",
   "version": "3.11.13"
  }
 },
 "nbformat": 4,
 "nbformat_minor": 5
}
