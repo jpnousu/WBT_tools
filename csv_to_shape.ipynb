{
 "cells": [
  {
   "cell_type": "code",
   "execution_count": 1,
   "id": "360ecfa2-cf8f-4692-9850-4e588002a619",
   "metadata": {},
   "outputs": [],
   "source": [
    "import pandas as pd\n",
    "import geopandas as gpd\n",
    "from shapely.geometry import Point"
   ]
  },
  {
   "cell_type": "code",
   "execution_count": 2,
   "id": "9fdfaac8-44d1-4b2c-be5a-c687a589a76d",
   "metadata": {},
   "outputs": [],
   "source": [
    "#csv_file = r'/Users/jpnousu/Documents/Pallaslake_Catchment/LJO_poi_16m.csv'\n",
    "csv_file = r'/Users/jpnousu/DTS_data/AUX_DATA/LandUse_stripped.csv'\n",
    "output_file = r'/Users/jpnousu/WBT_data/shapes/stream_lengths.shp'\n",
    "\n",
    "# Read the CSV\n",
    "df = pd.read_csv(csv_file, sep=';')\n",
    "\n",
    "# Create geometry column from lon and lat\n",
    "geometry = [Point(xy) for xy in zip(df['lon'], df['lat'])]\n",
    "\n",
    "# Define the CRS (update if you know the exact EPSG code; guessing it's EPSG:3067 or similar)\n",
    "gdf = gpd.GeoDataFrame(df, geometry=geometry, crs=\"EPSG:3067\")  # Example: ETRS89 / TM35FIN\n",
    "\n",
    "# Save as Shapefile\n",
    "gdf.to_file(output_file)"
   ]
  },
  {
   "cell_type": "code",
   "execution_count": null,
   "id": "e666a963-38f7-44e9-9903-c9a2f4d99235",
   "metadata": {},
   "outputs": [],
   "source": []
  }
 ],
 "metadata": {
  "kernelspec": {
   "display_name": "Python 3 (ipykernel)",
   "language": "python",
   "name": "python3"
  },
  "language_info": {
   "codemirror_mode": {
    "name": "ipython",
    "version": 3
   },
   "file_extension": ".py",
   "mimetype": "text/x-python",
   "name": "python",
   "nbconvert_exporter": "python",
   "pygments_lexer": "ipython3",
   "version": "3.11.13"
  }
 },
 "nbformat": 4,
 "nbformat_minor": 5
}
