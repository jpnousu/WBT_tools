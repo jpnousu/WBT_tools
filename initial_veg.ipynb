{
 "cells": [
  {
   "cell_type": "code",
   "execution_count": 1,
   "id": "bf688181-16cd-41d8-b9d5-3617b6cdab37",
   "metadata": {},
   "outputs": [],
   "source": [
    "# vmi vegetation rasters into SpaFHy vegetation rasters\n",
    "# meaning that needle biomasses need to be converted to LAI\n",
    "# unit conversion for e.g. canopy height\n",
    "# saving them in .asc"
   ]
  }
 ],
 "metadata": {
  "kernelspec": {
   "display_name": "Python 3 (ipykernel)",
   "language": "python",
   "name": "python3"
  },
  "language_info": {
   "codemirror_mode": {
    "name": "ipython",
    "version": 3
   },
   "file_extension": ".py",
   "mimetype": "text/x-python",
   "name": "python",
   "nbconvert_exporter": "python",
   "pygments_lexer": "ipython3",
   "version": "3.11.13"
  }
 },
 "nbformat": 4,
 "nbformat_minor": 5
}
