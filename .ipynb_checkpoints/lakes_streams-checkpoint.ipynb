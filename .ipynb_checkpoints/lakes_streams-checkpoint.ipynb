{
 "cells": [
  {
   "cell_type": "code",
   "execution_count": 1,
   "id": "930e83d9-30e1-46ab-a360-cb9fd48e06f9",
   "metadata": {},
   "outputs": [],
   "source": [
    "import geopandas as gpd\n",
    "from shapely.geometry import LineString, Point\n",
    "from shapely.ops import linemerge\n",
    "import numpy as np\n",
    "import pandas as pd\n",
    "import rasterio\n",
    "from rasterio.features import rasterize"
   ]
  },
  {
   "cell_type": "code",
   "execution_count": 2,
   "id": "7def0d00-8abf-4698-b836-be9811b9b44a",
   "metadata": {},
   "outputs": [
    {
     "name": "stderr",
     "output_type": "stream",
     "text": [
      "/var/folders/01/f14lxpfj5wl28zjtf5rz8t9c0000gn/T/ipykernel_97025/556849022.py:49: DeprecationWarning: The 'unary_union' attribute is deprecated, use the 'union_all()' method instead.\n",
      "  streams_no_lake = streams[~streams.within(lakes.unary_union)]\n"
     ]
    }
   ],
   "source": [
    "# Load streams and lakes\n",
    "streams_file = '/Users/jpnousu/WBT_data/shapes/merged_rivers_streams_2D.shp'\n",
    "new_streams_file = '/Users/jpnousu/WBT_data/shapes/merged_rivers_streams_2D_mod.shp'\n",
    "lakes_file = r'/Users/jpnousu/WBT_data/shapes/clipped_MTK-vakavesi_19-01-23_jarvi.shp'\n",
    "\n",
    "streams = gpd.read_file(streams_file)\n",
    "lakes = gpd.read_file(lakes_file)\n",
    "\n",
    "def get_endpoints(line):\n",
    "    coords = list(line.coords)\n",
    "    return Point(coords[0]), Point(coords[-1])\n",
    "\n",
    "def find_endpoints_on_lake_boundary(streams, lake):\n",
    "    # Find stream endpoints that touch lake boundary\n",
    "    lake_boundary = lake.boundary\n",
    "    endpoints = []\n",
    "    for idx, row in streams.iterrows():\n",
    "        start, end = get_endpoints(row.geometry)\n",
    "        if start.intersects(lake_boundary):\n",
    "            endpoints.append((idx, start))\n",
    "        if end.intersects(lake_boundary):\n",
    "            endpoints.append((idx, end))\n",
    "    return endpoints\n",
    "\n",
    "new_lines = []\n",
    "\n",
    "for lake_idx, lake_row in lakes.iterrows():\n",
    "    # Get streams intersecting lake\n",
    "    intersecting_streams = streams[streams.intersects(lake_row.geometry)]\n",
    "    \n",
    "    endpoints = find_endpoints_on_lake_boundary(intersecting_streams, lake_row.geometry)\n",
    "    \n",
    "    # If less than two endpoints, cannot connect\n",
    "    if len(endpoints) < 2:\n",
    "        continue\n",
    "    \n",
    "    # Naive approach: connect pairs of endpoints\n",
    "    # If odd number or multiple pairs, you might want to cluster by location\n",
    "    for i in range(0, len(endpoints) - 1, 2):\n",
    "        pt1 = endpoints[i][1]\n",
    "        pt2 = endpoints[i+1][1]\n",
    "        new_line = LineString([pt1, pt2])\n",
    "        new_lines.append(new_line)\n",
    "\n",
    "# Create GeoDataFrame for new connecting lines\n",
    "connections = gpd.GeoDataFrame(geometry=new_lines, crs=streams.crs)\n",
    "\n",
    "# Remove stream segments fully inside lakes to avoid duplicates or artifacts\n",
    "streams_no_lake = streams[~streams.within(lakes.unary_union)]\n",
    "\n",
    "# Append the new connecting lines\n",
    "streams_connected = pd.concat([streams_no_lake, connections], ignore_index=True)\n",
    "\n",
    "streams_connected.to_file(new_streams_file)"
   ]
  },
  {
   "cell_type": "code",
   "execution_count": 3,
   "id": "212b00a2-545a-40b5-9046-dca5825a9d14",
   "metadata": {},
   "outputs": [
    {
     "name": "stdout",
     "output_type": "stream",
     "text": [
      "Hydrological mask raster (streams + rivers + lakes) saved to: /Users/jpnousu/WBT_data/pallas/hydro_4m.tif\n"
     ]
    }
   ],
   "source": [
    "import geopandas as gpd\n",
    "import rasterio\n",
    "from rasterio.features import rasterize\n",
    "\n",
    "# File paths\n",
    "stream_file = r'/Users/jpnousu/WBT_data/shapes/clipped_MTK-virtavesi_19-01-23_virtavesikapea.shp'\n",
    "river_file = r'/Users/jpnousu/WBT_data/shapes/clipped_MTK-virtavesi_19-01-23_virtavesialue.shp'\n",
    "lake_file = r'/Users/jpnousu/WBT_data/shapes/clipped_MTK-vakavesi_24-08-01_jarvi.shp'\n",
    "ref_file = r'/Users/jpnousu/WBT_data/pallas/korkeusmalli_4m_culverts.tif'\n",
    "out_file = '/Users/jpnousu/WBT_data/pallas/hydro_4m.tif'  # changed to reflect stream+river+lake\n",
    "\n",
    "# Load geometries\n",
    "streams = gpd.read_file(stream_file)\n",
    "rivers = gpd.read_file(river_file)\n",
    "lakes = gpd.read_file(lake_file)\n",
    "\n",
    "# Open the reference raster\n",
    "with rasterio.open(ref_file) as ref:\n",
    "    meta = ref.meta.copy()\n",
    "    out_shape = (ref.height, ref.width)\n",
    "    transform = ref.transform\n",
    "    crs = ref.crs\n",
    "\n",
    "# Reproject to match reference raster\n",
    "for gdf in [streams, rivers, lakes]:\n",
    "    if gdf.crs != crs:\n",
    "        gdf.to_crs(crs, inplace=True)\n",
    "\n",
    "# Combine all geometries (streams, rivers, lakes)\n",
    "combined_shapes = (\n",
    "    [(geom, 1) for geom in streams.geometry if geom is not None] +\n",
    "    [(geom, 1) for geom in rivers.geometry if geom is not None] +\n",
    "    [(geom, 1) for geom in lakes.geometry if geom is not None]\n",
    ")\n",
    "\n",
    "# Rasterize\n",
    "rasterized = rasterize(\n",
    "    combined_shapes,\n",
    "    out_shape=out_shape,\n",
    "    transform=transform,\n",
    "    fill=0,\n",
    "    dtype='uint8'\n",
    ")\n",
    "\n",
    "# Update metadata\n",
    "meta.update({\n",
    "    \"driver\": \"GTiff\",\n",
    "    \"dtype\": 'uint8',\n",
    "    \"count\": 1,\n",
    "    \"compress\": \"lzw\",\n",
    "    \"nodata\": 0\n",
    "})\n",
    "\n",
    "# Write output raster\n",
    "with rasterio.open(out_file, 'w', **meta) as dst:\n",
    "    dst.write(rasterized, 1)\n",
    "\n",
    "print(f\"Hydrological mask raster (streams + rivers + lakes) saved to: {out_file}\")\n"
   ]
  },
  {
   "cell_type": "code",
   "execution_count": null,
   "id": "4d8ae518-750d-485a-a7c5-1613eb4c620a",
   "metadata": {},
   "outputs": [],
   "source": []
  }
 ],
 "metadata": {
  "kernelspec": {
   "display_name": "Python 3 (ipykernel)",
   "language": "python",
   "name": "python3"
  },
  "language_info": {
   "codemirror_mode": {
    "name": "ipython",
    "version": 3
   },
   "file_extension": ".py",
   "mimetype": "text/x-python",
   "name": "python",
   "nbconvert_exporter": "python",
   "pygments_lexer": "ipython3",
   "version": "3.11.13"
  }
 },
 "nbformat": 4,
 "nbformat_minor": 5
}
