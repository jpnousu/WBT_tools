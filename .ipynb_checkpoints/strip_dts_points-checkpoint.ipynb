{
 "cells": [
  {
   "cell_type": "code",
   "execution_count": 8,
   "id": "2db6e589-422c-492c-8ca1-2ca7e64ae6cf",
   "metadata": {},
   "outputs": [],
   "source": [
    "# Small processing step for the DTS coordinate points..\n",
    "import pandas as pd\n",
    "\n",
    "file = r'/Users/jpnousu/DTS_data/AUX_DATA/LandUse.csv'\n",
    "out_file = r'/Users/jpnousu/DTS_data/AUX_DATA/LandUse_stripped.csv'\n",
    "points = pd.read_csv(file)[['Length', 'X', 'Y']]\n",
    "points = points.rename(columns={'X': 'lon', 'Y': 'lat'})\n",
    "points.to_csv(out_file, sep=';', index=False)"
   ]
  }
 ],
 "metadata": {
  "kernelspec": {
   "display_name": "Python 3 (ipykernel)",
   "language": "python",
   "name": "python3"
  },
  "language_info": {
   "codemirror_mode": {
    "name": "ipython",
    "version": 3
   },
   "file_extension": ".py",
   "mimetype": "text/x-python",
   "name": "python",
   "nbconvert_exporter": "python",
   "pygments_lexer": "ipython3",
   "version": "3.11.13"
  }
 },
 "nbformat": 4,
 "nbformat_minor": 5
}
