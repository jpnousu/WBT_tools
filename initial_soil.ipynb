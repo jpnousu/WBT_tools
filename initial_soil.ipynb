{
 "cells": [
  {
   "cell_type": "code",
   "execution_count": 2,
   "id": "f7e3d4d9-cc5c-46e5-b474-b04cea731b4f",
   "metadata": {},
   "outputs": [],
   "source": [
    "# need to translate the GTK / Luke sitetypes into classes\n",
    "# should we just adjust SpaFHy parameters to be directly compatible with GTK classification?\n",
    "# if we use sitetypes as in Hyytiälä, then we should make the routine similar as there..\n",
    "# saving to .asc files (topsoil, rootsoil, deepsoil)"
   ]
  },
  {
   "cell_type": "code",
   "execution_count": null,
   "id": "70fe5963-60a0-4647-9620-efbe28979037",
   "metadata": {},
   "outputs": [],
   "source": []
  }
 ],
 "metadata": {
  "kernelspec": {
   "display_name": "Python 3 (ipykernel)",
   "language": "python",
   "name": "python3"
  },
  "language_info": {
   "codemirror_mode": {
    "name": "ipython",
    "version": 3
   },
   "file_extension": ".py",
   "mimetype": "text/x-python",
   "name": "python",
   "nbconvert_exporter": "python",
   "pygments_lexer": "ipython3",
   "version": "3.11.13"
  }
 },
 "nbformat": 4,
 "nbformat_minor": 5
}
